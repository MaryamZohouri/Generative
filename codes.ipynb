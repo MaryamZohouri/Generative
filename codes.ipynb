{
 "cells": [
  {
   "cell_type": "code",
   "execution_count": 15,
   "metadata": {},
   "outputs": [
    {
     "name": "stdout",
     "output_type": "stream",
     "text": [
      "Requirement already up-to-date: pandas in c:\\users\\lenovo\\anaconda3\\lib\\site-packages (2.0.3)\n",
      "Requirement already satisfied, skipping upgrade: tzdata>=2022.1 in c:\\users\\lenovo\\anaconda3\\lib\\site-packages (from pandas) (2023.3)\n",
      "Requirement already satisfied, skipping upgrade: python-dateutil>=2.8.2 in c:\\users\\lenovo\\anaconda3\\lib\\site-packages (from pandas) (2.8.2)\n",
      "Requirement already satisfied, skipping upgrade: numpy>=1.20.3; python_version < \"3.10\" in c:\\users\\lenovo\\anaconda3\\lib\\site-packages (from pandas) (1.24.4)\n",
      "Requirement already satisfied, skipping upgrade: pytz>=2020.1 in c:\\users\\lenovo\\anaconda3\\lib\\site-packages (from pandas) (2020.1)\n",
      "Requirement already satisfied, skipping upgrade: six>=1.5 in c:\\users\\lenovo\\appdata\\roaming\\python\\python38\\site-packages (from python-dateutil>=2.8.2->pandas) (1.15.0)\n",
      "Requirement already up-to-date: numpy in c:\\users\\lenovo\\anaconda3\\lib\\site-packages (1.24.4)\n"
     ]
    }
   ],
   "source": [
    "!pip install --upgrade pandas\n",
    "!pip install --upgrade numpy"
   ]
  },
  {
   "cell_type": "code",
   "execution_count": 17,
   "metadata": {},
   "outputs": [
    {
     "ename": "ImportError",
     "evalue": "cannot import name 'is_numpy_dev' from 'pandas.compat' (C:\\Users\\Lenovo\\anaconda3\\lib\\site-packages\\pandas\\compat\\__init__.py)",
     "output_type": "error",
     "traceback": [
      "\u001b[1;31m---------------------------------------------------------------------------\u001b[0m",
      "\u001b[1;31mImportError\u001b[0m                               Traceback (most recent call last)",
      "\u001b[1;32m<ipython-input-17-d204309626cb>\u001b[0m in \u001b[0;36m<module>\u001b[1;34m\u001b[0m\n\u001b[0;32m      2\u001b[0m \u001b[1;32mimport\u001b[0m \u001b[0mnumpy\u001b[0m \u001b[1;32mas\u001b[0m \u001b[0mnp\u001b[0m\u001b[1;33m\u001b[0m\u001b[1;33m\u001b[0m\u001b[0m\n\u001b[0;32m      3\u001b[0m \u001b[1;32mimport\u001b[0m \u001b[0mmatplotlib\u001b[0m\u001b[1;33m.\u001b[0m\u001b[0mpyplot\u001b[0m \u001b[1;32mas\u001b[0m \u001b[0mplt\u001b[0m\u001b[1;33m\u001b[0m\u001b[1;33m\u001b[0m\u001b[0m\n\u001b[1;32m----> 4\u001b[1;33m \u001b[1;32mimport\u001b[0m \u001b[0mpandas\u001b[0m \u001b[1;32mas\u001b[0m \u001b[0mpd\u001b[0m\u001b[1;33m\u001b[0m\u001b[1;33m\u001b[0m\u001b[0m\n\u001b[0m\u001b[0;32m      5\u001b[0m \u001b[1;33m\u001b[0m\u001b[0m\n\u001b[0;32m      6\u001b[0m \u001b[1;32mfrom\u001b[0m \u001b[0msklearn\u001b[0m\u001b[1;33m.\u001b[0m\u001b[0mensemble\u001b[0m \u001b[1;32mimport\u001b[0m \u001b[0mRandomForestClassifier\u001b[0m\u001b[1;33m,\u001b[0m \u001b[0mExtraTreesClassifier\u001b[0m\u001b[1;33m\u001b[0m\u001b[1;33m\u001b[0m\u001b[0m\n",
      "\u001b[1;32m~\\anaconda3\\lib\\site-packages\\pandas\\__init__.py\u001b[0m in \u001b[0;36m<module>\u001b[1;34m\u001b[0m\n\u001b[0;32m     20\u001b[0m \u001b[1;33m\u001b[0m\u001b[0m\n\u001b[0;32m     21\u001b[0m \u001b[1;31m# numpy compat\u001b[0m\u001b[1;33m\u001b[0m\u001b[1;33m\u001b[0m\u001b[1;33m\u001b[0m\u001b[0m\n\u001b[1;32m---> 22\u001b[1;33m \u001b[1;32mfrom\u001b[0m \u001b[0mpandas\u001b[0m\u001b[1;33m.\u001b[0m\u001b[0mcompat\u001b[0m \u001b[1;32mimport\u001b[0m \u001b[0mis_numpy_dev\u001b[0m \u001b[1;32mas\u001b[0m \u001b[0m_is_numpy_dev\u001b[0m  \u001b[1;31m# pyright: ignore # noqa:F401\u001b[0m\u001b[1;33m\u001b[0m\u001b[1;33m\u001b[0m\u001b[0m\n\u001b[0m\u001b[0;32m     23\u001b[0m \u001b[1;33m\u001b[0m\u001b[0m\n\u001b[0;32m     24\u001b[0m \u001b[1;32mtry\u001b[0m\u001b[1;33m:\u001b[0m\u001b[1;33m\u001b[0m\u001b[1;33m\u001b[0m\u001b[0m\n",
      "\u001b[1;31mImportError\u001b[0m: cannot import name 'is_numpy_dev' from 'pandas.compat' (C:\\Users\\Lenovo\\anaconda3\\lib\\site-packages\\pandas\\compat\\__init__.py)"
     ]
    }
   ],
   "source": [
    "# Importing the libraries\n",
    "import numpy as np\n",
    "import matplotlib.pyplot as plt\n",
    "import pandas as pd\n",
    "\n",
    "from sklearn.ensemble import RandomForestClassifier, ExtraTreesClassifier\n",
    "from sklearn.metrics import confusion_matrix, classification_report\n",
    "from sklearn.feature_selection import SelectFromModel\n",
    "from sklearn.linear_model import LinearRegression\n",
    "import math\n",
    "\n",
    "# import plotly.express as px\n",
    "from sklearn.metrics import mean_absolute_error"
   ]
  },
  {
   "cell_type": "code",
   "execution_count": 2,
   "metadata": {},
   "outputs": [],
   "source": [
    "# Importing the dataset\n",
    "dataset = pd.read_csv('CVD_cleaned.csv')\n",
    "# print(dataset.head())"
   ]
  },
  {
   "cell_type": "code",
   "execution_count": 3,
   "metadata": {},
   "outputs": [
    {
     "name": "stdout",
     "output_type": "stream",
     "text": [
      "<class 'pandas.core.frame.DataFrame'>\n",
      "RangeIndex: 308854 entries, 0 to 308853\n",
      "Data columns (total 19 columns):\n",
      " #   Column                        Non-Null Count   Dtype  \n",
      "---  ------                        --------------   -----  \n",
      " 0   General_Health                308854 non-null  object \n",
      " 1   Checkup                       308854 non-null  object \n",
      " 2   Exercise                      308854 non-null  object \n",
      " 3   Skin_Cancer                   308854 non-null  object \n",
      " 4   Other_Cancer                  308854 non-null  object \n",
      " 5   Depression                    308854 non-null  object \n",
      " 6   Diabetes                      308854 non-null  object \n",
      " 7   Arthritis                     308854 non-null  object \n",
      " 8   Sex                           308854 non-null  object \n",
      " 9   Smoking_History               308854 non-null  object \n",
      " 10  Age_Category                  308854 non-null  object \n",
      " 11  Height_(cm)                   308854 non-null  int64  \n",
      " 12  Weight_(kg)                   308854 non-null  float64\n",
      " 13  BMI                           308854 non-null  float64\n",
      " 14  Alcohol_Consumption           308854 non-null  int64  \n",
      " 15  Fruit_Consumption             308854 non-null  int64  \n",
      " 16  Green_Vegetables_Consumption  308854 non-null  int64  \n",
      " 17  FriedPotato_Consumption       308854 non-null  int64  \n",
      " 18  Heart_Disease                 308854 non-null  object \n",
      "dtypes: float64(2), int64(5), object(12)\n",
      "memory usage: 44.8+ MB\n"
     ]
    }
   ],
   "source": [
    "dataset.info()"
   ]
  },
  {
   "cell_type": "code",
   "execution_count": 4,
   "metadata": {},
   "outputs": [],
   "source": [
    "test3 = dataset.isna().sum() / len(dataset)"
   ]
  },
  {
   "cell_type": "code",
   "execution_count": 5,
   "metadata": {},
   "outputs": [],
   "source": [
    "Drop = list(test3[test3 > 0.5].index)"
   ]
  },
  {
   "cell_type": "code",
   "execution_count": 6,
   "metadata": {},
   "outputs": [
    {
     "data": {
      "text/plain": [
       "[]"
      ]
     },
     "execution_count": 6,
     "metadata": {},
     "output_type": "execute_result"
    }
   ],
   "source": [
    "Drop"
   ]
  },
  {
   "cell_type": "code",
   "execution_count": 7,
   "metadata": {},
   "outputs": [],
   "source": [
    "# dataset.describe().T.round(2)"
   ]
  },
  {
   "cell_type": "code",
   "execution_count": 8,
   "metadata": {},
   "outputs": [],
   "source": [
    "dataset = dataset[dataset[\"Heart_Disease\"] != \"M\"]"
   ]
  },
  {
   "cell_type": "code",
   "execution_count": 9,
   "metadata": {},
   "outputs": [],
   "source": [
    "disease_map = {\n",
    "    \"Yes\": 1,\n",
    "    \"No\": 2,\n",
    "}\n",
    "dataset[\"Heart_Disease\"] = dataset[\"Heart_Disease\"].replace(disease_map)"
   ]
  },
  {
   "cell_type": "code",
   "execution_count": 10,
   "metadata": {},
   "outputs": [
    {
     "data": {
      "text/plain": [
       "Very Good    110395\n",
       "Good          95364\n",
       "Excellent     55954\n",
       "Fair          35810\n",
       "Poor          11331\n",
       "Name: General_Health, dtype: int64"
      ]
     },
     "execution_count": 10,
     "metadata": {},
     "output_type": "execute_result"
    }
   ],
   "source": [
    "dataset[\"General_Health\"].fillna(\"NA\").value_counts()"
   ]
  },
  {
   "cell_type": "code",
   "execution_count": 11,
   "metadata": {},
   "outputs": [
    {
     "data": {
      "text/plain": [
       "Very Good    110395\n",
       "Good          95364\n",
       "Excellent     55954\n",
       "Fair          35810\n",
       "Poor          11331\n",
       "Name: General_Health, dtype: int64"
      ]
     },
     "execution_count": 11,
     "metadata": {},
     "output_type": "execute_result"
    }
   ],
   "source": [
    "dataset[\"General_Health\"].value_counts()"
   ]
  },
  {
   "cell_type": "code",
   "execution_count": 12,
   "metadata": {},
   "outputs": [
    {
     "data": {
      "text/plain": [
       "array(['Poor', 'Very Good', 'Good', 'Fair', 'Excellent'], dtype=object)"
      ]
     },
     "execution_count": 12,
     "metadata": {},
     "output_type": "execute_result"
    }
   ],
   "source": [
    "dataset[\"General_Health\"].unique()"
   ]
  },
  {
   "cell_type": "code",
   "execution_count": 13,
   "metadata": {},
   "outputs": [],
   "source": [
    "dataset[\"General_Health\"] = dataset[\"General_Health\"].replace(\n",
    "    {1: \"Poor\", 2: \"Very Good\", 3: \"Good\", 4: \"Fair\", 5: \"Excellent\"}\n",
    ")"
   ]
  },
  {
   "cell_type": "code",
   "execution_count": 14,
   "metadata": {},
   "outputs": [
    {
     "data": {
      "text/plain": [
       "Within the past year       239371\n",
       "Within the past 2 years     37213\n",
       "Within the past 5 years     17442\n",
       "5 or more years ago         13421\n",
       "Never                        1407\n",
       "Name: Checkup, dtype: int64"
      ]
     },
     "execution_count": 14,
     "metadata": {},
     "output_type": "execute_result"
    }
   ],
   "source": [
    "dataset[\"Checkup\"].value_counts()"
   ]
  },
  {
   "cell_type": "code",
   "execution_count": 15,
   "metadata": {},
   "outputs": [],
   "source": [
    "dataset[\"Checkup\"] = dataset[\"Checkup\"].replace(\n",
    "    {4: \"within the past year\", 3: \"within the past 2 years\", 2: \"within the past 5 years\", 1: \"5 or more years ago\", 0: \"Never\"}\n",
    ")"
   ]
  },
  {
   "cell_type": "code",
   "execution_count": 16,
   "metadata": {},
   "outputs": [
    {
     "data": {
      "text/plain": [
       "array(['Within the past 2 years', 'Within the past year',\n",
       "       '5 or more years ago', 'Within the past 5 years', 'Never'],\n",
       "      dtype=object)"
      ]
     },
     "execution_count": 16,
     "metadata": {},
     "output_type": "execute_result"
    }
   ],
   "source": [
    "dataset[\"Checkup\"].unique()"
   ]
  },
  {
   "cell_type": "code",
   "execution_count": 17,
   "metadata": {},
   "outputs": [
    {
     "data": {
      "text/plain": [
       "<matplotlib.axes._subplots.AxesSubplot at 0x1cf82874d60>"
      ]
     },
     "execution_count": 17,
     "metadata": {},
     "output_type": "execute_result"
    },
    {
     "data": {
      "image/png": "[encoded data removed]",
      "text/plain": [
       "<Figure size 432x288 with 1 Axes>"
      ]
     },
     "metadata": {
      "needs_background": "light"
     },
     "output_type": "display_data"
    }
   ],
   "source": [
    "import seaborn as sns\n",
    "sns.boxplot(dataset[\"Checkup\"], dataset[\"Heart_Disease\"])"
   ]
  },
  {
   "cell_type": "code",
   "execution_count": 18,
   "metadata": {},
   "outputs": [],
   "source": [
    "from category_encoders import LeaveOneOutEncoder\n",
    "dataset = LeaveOneOutEncoder().fit_transform(dataset, dataset[\"Heart_Disease\"])"
   ]
  },
  {
   "cell_type": "code",
   "execution_count": 19,
   "metadata": {},
   "outputs": [],
   "source": [
    "Data = dataset.drop(\n",
    "    columns=[\n",
    "        \"Checkup\",\n",
    "        \"Exercise\",\n",
    "        \"Skin_Cancer\",\n",
    "        \"Other_Cancer\",\n",
    "        \"Depression\",\n",
    "        \"Sex\",\n",
    "        \"Height_(cm)\",\n",
    "        \"Weight_(kg)\",\n",
    "        \"BMI\",\n",
    "        \"Alcohol_Consumption\",\n",
    "        \"Fruit_Consumption\",\n",
    "        \"Green_Vegetables_Consumption\",\n",
    "        \"FriedPotato_Consumption\",\n",
    "    ]\n",
    ")"
   ]
  },
  {
   "cell_type": "code",
   "execution_count": 20,
   "metadata": {},
   "outputs": [
    {
     "data": {
      "image/png": "[encoded data removed]",
      "text/plain": [
       "<Figure size 504x1440 with 2 Axes>"
      ]
     },
     "metadata": {
      "needs_background": "light"
     },
     "output_type": "display_data"
    }
   ],
   "source": [
    "DiseaseCor = dataset.corr()[[\"Heart_Disease\"]].sort_values(\"Heart_Disease\")\n",
    "plt.figure(figsize=(7, 20))\n",
    "sns.heatmap(\n",
    "    DiseaseCor,\n",
    "    vmin=-1,\n",
    "    annot=True,\n",
    ")\n",
    "plt.show()"
   ]
  },
  {
   "cell_type": "code",
   "execution_count": 21,
   "metadata": {},
   "outputs": [
    {
     "data": {
      "text/html": [
       "<div>\n",
       "<style scoped>\n",
       "    .dataframe tbody tr th:only-of-type {\n",
       "        vertical-align: middle;\n",
       "    }\n",
       "\n",
       "    .dataframe tbody tr th {\n",
       "        vertical-align: top;\n",
       "    }\n",
       "\n",
       "    .dataframe thead th {\n",
       "        text-align: right;\n",
       "    }\n",
       "</style>\n",
       "<table border=\"1\" class=\"dataframe\">\n",
       "  <thead>\n",
       "    <tr style=\"text-align: right;\">\n",
       "      <th></th>\n",
       "      <th>Heart_Disease</th>\n",
       "    </tr>\n",
       "  </thead>\n",
       "  <tbody>\n",
       "    <tr>\n",
       "      <th>Weight_(kg)</th>\n",
       "      <td>-0.045875</td>\n",
       "    </tr>\n",
       "    <tr>\n",
       "      <th>BMI</th>\n",
       "      <td>-0.042666</td>\n",
       "    </tr>\n",
       "    <tr>\n",
       "      <th>Height_(cm)</th>\n",
       "      <td>-0.015780</td>\n",
       "    </tr>\n",
       "    <tr>\n",
       "      <th>FriedPotato_Consumption</th>\n",
       "      <td>0.009227</td>\n",
       "    </tr>\n",
       "    <tr>\n",
       "      <th>Fruit_Consumption</th>\n",
       "      <td>0.020055</td>\n",
       "    </tr>\n",
       "    <tr>\n",
       "      <th>Green_Vegetables_Consumption</th>\n",
       "      <td>0.024043</td>\n",
       "    </tr>\n",
       "    <tr>\n",
       "      <th>Depression</th>\n",
       "      <td>0.032312</td>\n",
       "    </tr>\n",
       "    <tr>\n",
       "      <th>Alcohol_Consumption</th>\n",
       "      <td>0.036569</td>\n",
       "    </tr>\n",
       "    <tr>\n",
       "      <th>Sex</th>\n",
       "      <td>0.072505</td>\n",
       "    </tr>\n",
       "    <tr>\n",
       "      <th>Skin_Cancer</th>\n",
       "      <td>0.090753</td>\n",
       "    </tr>\n",
       "    <tr>\n",
       "      <th>Other_Cancer</th>\n",
       "      <td>0.092293</td>\n",
       "    </tr>\n",
       "    <tr>\n",
       "      <th>Checkup</th>\n",
       "      <td>0.093935</td>\n",
       "    </tr>\n",
       "    <tr>\n",
       "      <th>Exercise</th>\n",
       "      <td>0.096268</td>\n",
       "    </tr>\n",
       "    <tr>\n",
       "      <th>Smoking_History</th>\n",
       "      <td>0.107734</td>\n",
       "    </tr>\n",
       "    <tr>\n",
       "      <th>Arthritis</th>\n",
       "      <td>0.153865</td>\n",
       "    </tr>\n",
       "    <tr>\n",
       "      <th>Diabetes</th>\n",
       "      <td>0.183580</td>\n",
       "    </tr>\n",
       "    <tr>\n",
       "      <th>Age_Category</th>\n",
       "      <td>0.241504</td>\n",
       "    </tr>\n",
       "    <tr>\n",
       "      <th>General_Health</th>\n",
       "      <td>0.249463</td>\n",
       "    </tr>\n",
       "    <tr>\n",
       "      <th>Heart_Disease</th>\n",
       "      <td>1.000000</td>\n",
       "    </tr>\n",
       "  </tbody>\n",
       "</table>\n",
       "</div>"
      ],
      "text/plain": [
       "                              Heart_Disease\n",
       "Weight_(kg)                       -0.045875\n",
       "BMI                               -0.042666\n",
       "Height_(cm)                       -0.015780\n",
       "FriedPotato_Consumption            0.009227\n",
       "Fruit_Consumption                  0.020055\n",
       "Green_Vegetables_Consumption       0.024043\n",
       "Depression                         0.032312\n",
       "Alcohol_Consumption                0.036569\n",
       "Sex                                0.072505\n",
       "Skin_Cancer                        0.090753\n",
       "Other_Cancer                       0.092293\n",
       "Checkup                            0.093935\n",
       "Exercise                           0.096268\n",
       "Smoking_History                    0.107734\n",
       "Arthritis                          0.153865\n",
       "Diabetes                           0.183580\n",
       "Age_Category                       0.241504\n",
       "General_Health                     0.249463\n",
       "Heart_Disease                      1.000000"
      ]
     },
     "execution_count": 21,
     "metadata": {},
     "output_type": "execute_result"
    }
   ],
   "source": [
    "DiseaseCor"
   ]
  },
  {
   "cell_type": "markdown",
   "metadata": {},
   "source": [
    "Columns with correlation more than 0.1 can be choosen."
   ]
  },
  {
   "cell_type": "code",
   "execution_count": 22,
   "metadata": {},
   "outputs": [
    {
     "name": "stdout",
     "output_type": "stream",
     "text": [
      "<class 'pandas.core.frame.DataFrame'>\n",
      "Int64Index: 308854 entries, 0 to 308853\n",
      "Data columns (total 19 columns):\n",
      " #   Column                        Non-Null Count   Dtype  \n",
      "---  ------                        --------------   -----  \n",
      " 0   Weight_(kg)                   308854 non-null  float64\n",
      " 1   BMI                           308854 non-null  float64\n",
      " 2   Height_(cm)                   308854 non-null  int64  \n",
      " 3   FriedPotato_Consumption       308854 non-null  int64  \n",
      " 4   Fruit_Consumption             308854 non-null  int64  \n",
      " 5   Green_Vegetables_Consumption  308854 non-null  int64  \n",
      " 6   Depression                    308854 non-null  float64\n",
      " 7   Alcohol_Consumption           308854 non-null  int64  \n",
      " 8   Sex                           308854 non-null  float64\n",
      " 9   Skin_Cancer                   308854 non-null  float64\n",
      " 10  Other_Cancer                  308854 non-null  float64\n",
      " 11  Checkup                       308854 non-null  float64\n",
      " 12  Exercise                      308854 non-null  float64\n",
      " 13  Smoking_History               308854 non-null  float64\n",
      " 14  Arthritis                     308854 non-null  float64\n",
      " 15  Diabetes                      308854 non-null  float64\n",
      " 16  Age_Category                  308854 non-null  float64\n",
      " 17  General_Health                308854 non-null  float64\n",
      " 18  Heart_Disease                 308854 non-null  int64  \n",
      "dtypes: float64(13), int64(6)\n",
      "memory usage: 47.1 MB\n"
     ]
    }
   ],
   "source": [
    "df1 = dataset[DiseaseCor.index]\n",
    "df1.info()"
   ]
  },
  {
   "cell_type": "code",
   "execution_count": 23,
   "metadata": {},
   "outputs": [
    {
     "data": {
      "text/plain": [
       "<function matplotlib.pyplot.show(*args, **kw)>"
      ]
     },
     "execution_count": 23,
     "metadata": {},
     "output_type": "execute_result"
    },
    {
     "data": {
      "image/png": "[encoded data removed]",
      "text/plain": [
       "<Figure size 432x288 with 2 Axes>"
      ]
     },
     "metadata": {
      "needs_background": "light"
     },
     "output_type": "display_data"
    }
   ],
   "source": [
    "sns.heatmap(df1.corr(), vmin=-1, annot=True)\n",
    "plt.show"
   ]
  },
  {
   "cell_type": "code",
   "execution_count": 24,
   "metadata": {},
   "outputs": [
    {
     "data": {
      "image/png": "[encoded data removed]",
      "text/plain": [
       "<Figure size 432x288 with 2 Axes>"
      ]
     },
     "metadata": {
      "needs_background": "light"
     },
     "output_type": "display_data"
    }
   ],
   "source": [
    "df = pd.DataFrame(dataset)\n",
    "correlation_matrix=df.corr()\n",
    "n=6\n",
    "most_correlated_features=correlation_matrix.nlargest(n, 'Heart_Disease')['Heart_Disease'].index\n",
    "#create a new data frame\n",
    "selected_features=df[most_correlated_features]\n",
    "#Generate heat map\n",
    "heatmap=sns.heatmap(selected_features.corr(), annot=True, cmap='coolwarm')\n",
    "plt.show()"
   ]
  },
  {
   "cell_type": "markdown",
   "metadata": {},
   "source": [
    "# Random Forest"
   ]
  },
  {
   "cell_type": "code",
   "execution_count": 25,
   "metadata": {},
   "outputs": [],
   "source": [
    "df1 = df1.dropna()"
   ]
  },
  {
   "cell_type": "code",
   "execution_count": 26,
   "metadata": {},
   "outputs": [
    {
     "data": {
      "text/html": [
       "<div>\n",
       "<style scoped>\n",
       "    .dataframe tbody tr th:only-of-type {\n",
       "        vertical-align: middle;\n",
       "    }\n",
       "\n",
       "    .dataframe tbody tr th {\n",
       "        vertical-align: top;\n",
       "    }\n",
       "\n",
       "    .dataframe thead th {\n",
       "        text-align: right;\n",
       "    }\n",
       "</style>\n",
       "<table border=\"1\" class=\"dataframe\">\n",
       "  <thead>\n",
       "    <tr style=\"text-align: right;\">\n",
       "      <th></th>\n",
       "      <th>Weight_(kg)</th>\n",
       "      <th>BMI</th>\n",
       "      <th>Height_(cm)</th>\n",
       "      <th>FriedPotato_Consumption</th>\n",
       "      <th>Fruit_Consumption</th>\n",
       "      <th>Green_Vegetables_Consumption</th>\n",
       "      <th>Depression</th>\n",
       "      <th>Alcohol_Consumption</th>\n",
       "      <th>Sex</th>\n",
       "      <th>Skin_Cancer</th>\n",
       "      <th>Other_Cancer</th>\n",
       "      <th>Checkup</th>\n",
       "      <th>Exercise</th>\n",
       "      <th>Smoking_History</th>\n",
       "      <th>Arthritis</th>\n",
       "      <th>Diabetes</th>\n",
       "      <th>Age_Category</th>\n",
       "      <th>General_Health</th>\n",
       "      <th>Heart_Disease</th>\n",
       "    </tr>\n",
       "  </thead>\n",
       "  <tbody>\n",
       "    <tr>\n",
       "      <th>0</th>\n",
       "      <td>32.66</td>\n",
       "      <td>14.54</td>\n",
       "      <td>150</td>\n",
       "      <td>12</td>\n",
       "      <td>30</td>\n",
       "      <td>16</td>\n",
       "      <td>1.923588</td>\n",
       "      <td>0</td>\n",
       "      <td>1.938213</td>\n",
       "      <td>1.927271</td>\n",
       "      <td>1.927391</td>\n",
       "      <td>1.960631</td>\n",
       "      <td>1.870394</td>\n",
       "      <td>1.883573</td>\n",
       "      <td>1.858989</td>\n",
       "      <td>1.939396</td>\n",
       "      <td>1.853353</td>\n",
       "      <td>1.682083</td>\n",
       "      <td>2</td>\n",
       "    </tr>\n",
       "    <tr>\n",
       "      <th>1</th>\n",
       "      <td>77.11</td>\n",
       "      <td>28.29</td>\n",
       "      <td>165</td>\n",
       "      <td>4</td>\n",
       "      <td>30</td>\n",
       "      <td>0</td>\n",
       "      <td>1.923592</td>\n",
       "      <td>0</td>\n",
       "      <td>1.938219</td>\n",
       "      <td>1.927275</td>\n",
       "      <td>1.927395</td>\n",
       "      <td>1.905443</td>\n",
       "      <td>1.870408</td>\n",
       "      <td>1.943428</td>\n",
       "      <td>1.948417</td>\n",
       "      <td>1.791511</td>\n",
       "      <td>1.853386</td>\n",
       "      <td>1.956329</td>\n",
       "      <td>1</td>\n",
       "    </tr>\n",
       "    <tr>\n",
       "      <th>2</th>\n",
       "      <td>88.45</td>\n",
       "      <td>33.47</td>\n",
       "      <td>163</td>\n",
       "      <td>16</td>\n",
       "      <td>12</td>\n",
       "      <td>3</td>\n",
       "      <td>1.923588</td>\n",
       "      <td>4</td>\n",
       "      <td>1.938213</td>\n",
       "      <td>1.927271</td>\n",
       "      <td>1.927391</td>\n",
       "      <td>1.905439</td>\n",
       "      <td>1.933299</td>\n",
       "      <td>1.943423</td>\n",
       "      <td>1.948412</td>\n",
       "      <td>1.791486</td>\n",
       "      <td>1.907086</td>\n",
       "      <td>1.956320</td>\n",
       "      <td>2</td>\n",
       "    </tr>\n",
       "    <tr>\n",
       "      <th>3</th>\n",
       "      <td>93.44</td>\n",
       "      <td>28.73</td>\n",
       "      <td>180</td>\n",
       "      <td>8</td>\n",
       "      <td>30</td>\n",
       "      <td>30</td>\n",
       "      <td>1.923592</td>\n",
       "      <td>0</td>\n",
       "      <td>1.898612</td>\n",
       "      <td>1.927275</td>\n",
       "      <td>1.927395</td>\n",
       "      <td>1.905443</td>\n",
       "      <td>1.933303</td>\n",
       "      <td>1.943428</td>\n",
       "      <td>1.948417</td>\n",
       "      <td>1.791511</td>\n",
       "      <td>1.818827</td>\n",
       "      <td>1.682171</td>\n",
       "      <td>1</td>\n",
       "    </tr>\n",
       "    <tr>\n",
       "      <th>4</th>\n",
       "      <td>88.45</td>\n",
       "      <td>24.37</td>\n",
       "      <td>191</td>\n",
       "      <td>0</td>\n",
       "      <td>8</td>\n",
       "      <td>4</td>\n",
       "      <td>1.923588</td>\n",
       "      <td>0</td>\n",
       "      <td>1.898606</td>\n",
       "      <td>1.927271</td>\n",
       "      <td>1.927391</td>\n",
       "      <td>1.905439</td>\n",
       "      <td>1.870394</td>\n",
       "      <td>1.883573</td>\n",
       "      <td>1.948412</td>\n",
       "      <td>1.939396</td>\n",
       "      <td>1.781949</td>\n",
       "      <td>1.909367</td>\n",
       "      <td>2</td>\n",
       "    </tr>\n",
       "    <tr>\n",
       "      <th>...</th>\n",
       "      <td>...</td>\n",
       "      <td>...</td>\n",
       "      <td>...</td>\n",
       "      <td>...</td>\n",
       "      <td>...</td>\n",
       "      <td>...</td>\n",
       "      <td>...</td>\n",
       "      <td>...</td>\n",
       "      <td>...</td>\n",
       "      <td>...</td>\n",
       "      <td>...</td>\n",
       "      <td>...</td>\n",
       "      <td>...</td>\n",
       "      <td>...</td>\n",
       "      <td>...</td>\n",
       "      <td>...</td>\n",
       "      <td>...</td>\n",
       "      <td>...</td>\n",
       "      <td>...</td>\n",
       "    </tr>\n",
       "    <tr>\n",
       "      <th>308849</th>\n",
       "      <td>81.65</td>\n",
       "      <td>29.05</td>\n",
       "      <td>168</td>\n",
       "      <td>0</td>\n",
       "      <td>30</td>\n",
       "      <td>8</td>\n",
       "      <td>1.923588</td>\n",
       "      <td>4</td>\n",
       "      <td>1.898606</td>\n",
       "      <td>1.927271</td>\n",
       "      <td>1.927391</td>\n",
       "      <td>1.905439</td>\n",
       "      <td>1.933299</td>\n",
       "      <td>1.943423</td>\n",
       "      <td>1.948412</td>\n",
       "      <td>1.939396</td>\n",
       "      <td>1.992706</td>\n",
       "      <td>1.956320</td>\n",
       "      <td>2</td>\n",
       "    </tr>\n",
       "    <tr>\n",
       "      <th>308850</th>\n",
       "      <td>69.85</td>\n",
       "      <td>21.48</td>\n",
       "      <td>180</td>\n",
       "      <td>4</td>\n",
       "      <td>15</td>\n",
       "      <td>60</td>\n",
       "      <td>1.923588</td>\n",
       "      <td>8</td>\n",
       "      <td>1.898606</td>\n",
       "      <td>1.927271</td>\n",
       "      <td>1.927391</td>\n",
       "      <td>1.972995</td>\n",
       "      <td>1.933299</td>\n",
       "      <td>1.943423</td>\n",
       "      <td>1.948412</td>\n",
       "      <td>1.791486</td>\n",
       "      <td>1.885652</td>\n",
       "      <td>1.810411</td>\n",
       "      <td>2</td>\n",
       "    </tr>\n",
       "    <tr>\n",
       "      <th>308851</th>\n",
       "      <td>61.23</td>\n",
       "      <td>24.69</td>\n",
       "      <td>157</td>\n",
       "      <td>4</td>\n",
       "      <td>40</td>\n",
       "      <td>8</td>\n",
       "      <td>1.901438</td>\n",
       "      <td>4</td>\n",
       "      <td>1.938213</td>\n",
       "      <td>1.927271</td>\n",
       "      <td>1.927391</td>\n",
       "      <td>1.974516</td>\n",
       "      <td>1.933299</td>\n",
       "      <td>1.883573</td>\n",
       "      <td>1.948412</td>\n",
       "      <td>1.963705</td>\n",
       "      <td>1.989092</td>\n",
       "      <td>1.956320</td>\n",
       "      <td>2</td>\n",
       "    </tr>\n",
       "    <tr>\n",
       "      <th>308852</th>\n",
       "      <td>79.38</td>\n",
       "      <td>23.73</td>\n",
       "      <td>183</td>\n",
       "      <td>0</td>\n",
       "      <td>30</td>\n",
       "      <td>12</td>\n",
       "      <td>1.923588</td>\n",
       "      <td>3</td>\n",
       "      <td>1.898606</td>\n",
       "      <td>1.927271</td>\n",
       "      <td>1.927391</td>\n",
       "      <td>1.905439</td>\n",
       "      <td>1.933299</td>\n",
       "      <td>1.943423</td>\n",
       "      <td>1.948412</td>\n",
       "      <td>1.939396</td>\n",
       "      <td>1.885652</td>\n",
       "      <td>1.956320</td>\n",
       "      <td>2</td>\n",
       "    </tr>\n",
       "    <tr>\n",
       "      <th>308853</th>\n",
       "      <td>81.19</td>\n",
       "      <td>31.71</td>\n",
       "      <td>160</td>\n",
       "      <td>1</td>\n",
       "      <td>5</td>\n",
       "      <td>12</td>\n",
       "      <td>1.923588</td>\n",
       "      <td>1</td>\n",
       "      <td>1.938213</td>\n",
       "      <td>1.927271</td>\n",
       "      <td>1.927391</td>\n",
       "      <td>1.905439</td>\n",
       "      <td>1.933299</td>\n",
       "      <td>1.943423</td>\n",
       "      <td>1.948412</td>\n",
       "      <td>1.939396</td>\n",
       "      <td>1.967663</td>\n",
       "      <td>1.980073</td>\n",
       "      <td>2</td>\n",
       "    </tr>\n",
       "  </tbody>\n",
       "</table>\n",
       "<p>308854 rows × 19 columns</p>\n",
       "</div>"
      ],
      "text/plain": [
       "        Weight_(kg)    BMI  Height_(cm)  FriedPotato_Consumption  \\\n",
       "0             32.66  14.54          150                       12   \n",
       "1             77.11  28.29          165                        4   \n",
       "2             88.45  33.47          163                       16   \n",
       "3             93.44  28.73          180                        8   \n",
       "4             88.45  24.37          191                        0   \n",
       "...             ...    ...          ...                      ...   \n",
       "308849        81.65  29.05          168                        0   \n",
       "308850        69.85  21.48          180                        4   \n",
       "308851        61.23  24.69          157                        4   \n",
       "308852        79.38  23.73          183                        0   \n",
       "308853        81.19  31.71          160                        1   \n",
       "\n",
       "        Fruit_Consumption  Green_Vegetables_Consumption  Depression  \\\n",
       "0                      30                            16    1.923588   \n",
       "1                      30                             0    1.923592   \n",
       "2                      12                             3    1.923588   \n",
       "3                      30                            30    1.923592   \n",
       "4                       8                             4    1.923588   \n",
       "...                   ...                           ...         ...   \n",
       "308849                 30                             8    1.923588   \n",
       "308850                 15                            60    1.923588   \n",
       "308851                 40                             8    1.901438   \n",
       "308852                 30                            12    1.923588   \n",
       "308853                  5                            12    1.923588   \n",
       "\n",
       "        Alcohol_Consumption       Sex  Skin_Cancer  Other_Cancer   Checkup  \\\n",
       "0                         0  1.938213     1.927271      1.927391  1.960631   \n",
       "1                         0  1.938219     1.927275      1.927395  1.905443   \n",
       "2                         4  1.938213     1.927271      1.927391  1.905439   \n",
       "3                         0  1.898612     1.927275      1.927395  1.905443   \n",
       "4                         0  1.898606     1.927271      1.927391  1.905439   \n",
       "...                     ...       ...          ...           ...       ...   \n",
       "308849                    4  1.898606     1.927271      1.927391  1.905439   \n",
       "308850                    8  1.898606     1.927271      1.927391  1.972995   \n",
       "308851                    4  1.938213     1.927271      1.927391  1.974516   \n",
       "308852                    3  1.898606     1.927271      1.927391  1.905439   \n",
       "308853                    1  1.938213     1.927271      1.927391  1.905439   \n",
       "\n",
       "        Exercise  Smoking_History  Arthritis  Diabetes  Age_Category  \\\n",
       "0       1.870394         1.883573   1.858989  1.939396      1.853353   \n",
       "1       1.870408         1.943428   1.948417  1.791511      1.853386   \n",
       "2       1.933299         1.943423   1.948412  1.791486      1.907086   \n",
       "3       1.933303         1.943428   1.948417  1.791511      1.818827   \n",
       "4       1.870394         1.883573   1.948412  1.939396      1.781949   \n",
       "...          ...              ...        ...       ...           ...   \n",
       "308849  1.933299         1.943423   1.948412  1.939396      1.992706   \n",
       "308850  1.933299         1.943423   1.948412  1.791486      1.885652   \n",
       "308851  1.933299         1.883573   1.948412  1.963705      1.989092   \n",
       "308852  1.933299         1.943423   1.948412  1.939396      1.885652   \n",
       "308853  1.933299         1.943423   1.948412  1.939396      1.967663   \n",
       "\n",
       "        General_Health  Heart_Disease  \n",
       "0             1.682083              2  \n",
       "1             1.956329              1  \n",
       "2             1.956320              2  \n",
       "3             1.682171              1  \n",
       "4             1.909367              2  \n",
       "...                ...            ...  \n",
       "308849        1.956320              2  \n",
       "308850        1.810411              2  \n",
       "308851        1.956320              2  \n",
       "308852        1.956320              2  \n",
       "308853        1.980073              2  \n",
       "\n",
       "[308854 rows x 19 columns]"
      ]
     },
     "execution_count": 26,
     "metadata": {},
     "output_type": "execute_result"
    }
   ],
   "source": [
    "df1"
   ]
  },
  {
   "cell_type": "code",
   "execution_count": 27,
   "metadata": {},
   "outputs": [
    {
     "name": "stdout",
     "output_type": "stream",
     "text": [
      "[['Poor' 'Within the past 2 years' 'No' ... 30 16 12]\n",
      " ['Very Good' 'Within the past year' 'No' ... 30 0 4]\n",
      " ['Very Good' 'Within the past year' 'Yes' ... 12 3 16]\n",
      " ...\n",
      " ['Very Good' '5 or more years ago' 'Yes' ... 40 8 4]\n",
      " ['Very Good' 'Within the past year' 'Yes' ... 30 12 0]\n",
      " ['Excellent' 'Within the past year' 'Yes' ... 5 12 1]]\n",
      "['No' 'Yes' 'No' ... 'No' 'No' 'No']\n"
     ]
    }
   ],
   "source": [
    "# Importing the dataset\n",
    "dataset = pd.read_csv('CVD_cleaned.csv')\n",
    "X = dataset.iloc[:, :-1].values\n",
    "y = dataset.iloc[:, -1].values\n",
    "print(X)\n",
    "print(y)"
   ]
  },
  {
   "cell_type": "code",
   "execution_count": 28,
   "metadata": {},
   "outputs": [
    {
     "name": "stdout",
     "output_type": "stream",
     "text": [
      "[['Poor' 'Within the past 2 years' 'No' ... 30.0 16.0 12.0]\n",
      " ['Very Good' 'Within the past year' 'No' ... 30.0 0.0 4.0]\n",
      " ['Very Good' 'Within the past year' 'Yes' ... 12.0 3.0 16.0]\n",
      " ...\n",
      " ['Very Good' '5 or more years ago' 'Yes' ... 40.0 8.0 4.0]\n",
      " ['Very Good' 'Within the past year' 'Yes' ... 30.0 12.0 0.0]\n",
      " ['Excellent' 'Within the past year' 'Yes' ... 5.0 12.0 1.0]]\n"
     ]
    }
   ],
   "source": [
    "# Taking care of missing data\n",
    "from sklearn.impute import SimpleImputer\n",
    "imputer = SimpleImputer(missing_values=np.nan, strategy='mean')\n",
    "imputer.fit(X[:, 11:18])\n",
    "X[:, 11:18] = imputer.transform(X[:, 11:18])\n",
    "print(X)"
   ]
  },
  {
   "cell_type": "code",
   "execution_count": 29,
   "metadata": {},
   "outputs": [
    {
     "name": "stdout",
     "output_type": "stream",
     "text": [
      "[[0.0 0.0 0.0 ... 30.0 16.0 12.0]\n",
      " [0.0 0.0 0.0 ... 30.0 0.0 4.0]\n",
      " [0.0 0.0 0.0 ... 12.0 3.0 16.0]\n",
      " ...\n",
      " [0.0 0.0 0.0 ... 40.0 8.0 4.0]\n",
      " [0.0 0.0 0.0 ... 30.0 12.0 0.0]\n",
      " [1.0 0.0 0.0 ... 5.0 12.0 1.0]]\n"
     ]
    }
   ],
   "source": [
    "# Encoding categorical data\n",
    "# Encoding the Independent Variable\n",
    "from sklearn.compose import ColumnTransformer\n",
    "from sklearn.preprocessing import OneHotEncoder\n",
    "ct = ColumnTransformer(transformers=[('encoder', OneHotEncoder(), [0, 1, 2, 3, 4, 5, 6, 7, 8, 9, 10])], remainder='passthrough')\n",
    "X = np.array(ct.fit_transform(X))\n",
    "print(X)"
   ]
  },
  {
   "cell_type": "code",
   "execution_count": 30,
   "metadata": {},
   "outputs": [
    {
     "name": "stdout",
     "output_type": "stream",
     "text": [
      "[0 1 0 ... 0 0 0]\n"
     ]
    }
   ],
   "source": [
    "# Encoding the Target Variable, Heart_Disease\n",
    "from sklearn.preprocessing import LabelEncoder\n",
    "le = LabelEncoder()\n",
    "y = le.fit_transform(y)\n",
    "print(y)"
   ]
  },
  {
   "cell_type": "code",
   "execution_count": 31,
   "metadata": {},
   "outputs": [
    {
     "name": "stdout",
     "output_type": "stream",
     "text": [
      "[[0.0 0.0 0.0 ... 3.0 0.0 5.0]\n",
      " [1.0 0.0 0.0 ... 30.0 15.0 0.0]\n",
      " [0.0 0.0 1.0 ... 90.0 60.0 0.0]\n",
      " ...\n",
      " [0.0 0.0 0.0 ... 30.0 90.0 5.0]\n",
      " [0.0 0.0 0.0 ... 60.0 20.0 3.0]\n",
      " [0.0 0.0 1.0 ... 16.0 24.0 16.0]]\n",
      "[[0.0 0.0 1.0 ... 5.0 1.0 1.0]\n",
      " [0.0 0.0 1.0 ... 28.0 4.0 8.0]\n",
      " [0.0 0.0 0.0 ... 40.0 40.0 0.0]\n",
      " ...\n",
      " [0.0 0.0 1.0 ... 5.0 12.0 4.0]\n",
      " [0.0 0.0 1.0 ... 12.0 16.0 0.0]\n",
      " [0.0 0.0 0.0 ... 30.0 8.0 8.0]]\n",
      "[0 0 0 ... 0 0 0]\n",
      "[0 0 0 ... 0 0 0]\n"
     ]
    }
   ],
   "source": [
    "# Splitting the dataset into the Training set and Test set\n",
    "from sklearn.model_selection import train_test_split\n",
    "X_train, X_test, y_train, y_test = train_test_split(X, y, test_size = 0.2, random_state = 1)\n",
    "print(X_train)\n",
    "print(X_test)\n",
    "print(y_train)\n",
    "print(y_test)"
   ]
  },
  {
   "cell_type": "code",
   "execution_count": 32,
   "metadata": {},
   "outputs": [],
   "source": [
    "# Feature Scaling\n",
    "# from sklearn.preprocessing import StandardScaler\n",
    "# sc = StandardScaler()\n",
    "# X_train[:, 32:] = sc.fit_transform(X_train[:, 32:])\n",
    "# X_test[:, 32:] = sc.transform(X_test[:, 32:])\n",
    "# print(X_train)\n",
    "# print(X_test)\n"
   ]
  },
  {
   "cell_type": "code",
   "execution_count": 33,
   "metadata": {},
   "outputs": [
    {
     "data": {
      "text/plain": [
       "array([[0.0, 0.0, 0.0, ..., 30.0, 16.0, 12.0],\n",
       "       [0.0, 0.0, 0.0, ..., 30.0, 0.0, 4.0],\n",
       "       [0.0, 0.0, 0.0, ..., 12.0, 3.0, 16.0],\n",
       "       ...,\n",
       "       [0.0, 0.0, 0.0, ..., 40.0, 8.0, 4.0],\n",
       "       [0.0, 0.0, 0.0, ..., 30.0, 12.0, 0.0],\n",
       "       [1.0, 0.0, 0.0, ..., 5.0, 12.0, 1.0]], dtype=object)"
      ]
     },
     "execution_count": 33,
     "metadata": {},
     "output_type": "execute_result"
    }
   ],
   "source": [
    "X"
   ]
  },
  {
   "cell_type": "code",
   "execution_count": 34,
   "metadata": {},
   "outputs": [
    {
     "data": {
      "text/plain": [
       "array([0, 1, 0, ..., 0, 0, 0])"
      ]
     },
     "execution_count": 34,
     "metadata": {},
     "output_type": "execute_result"
    }
   ],
   "source": [
    "y"
   ]
  },
  {
   "cell_type": "code",
   "execution_count": 35,
   "metadata": {},
   "outputs": [
    {
     "data": {
      "text/plain": [
       "RandomForestClassifier(max_depth=3, n_estimators=30)"
      ]
     },
     "execution_count": 35,
     "metadata": {},
     "output_type": "execute_result"
    }
   ],
   "source": [
    "# Bagging + Rand features done for us\n",
    "model = RandomForestClassifier(n_estimators=30, max_depth=3)\n",
    "model.fit(X_train, y_train)"
   ]
  },
  {
   "cell_type": "code",
   "execution_count": 36,
   "metadata": {},
   "outputs": [
    {
     "name": "stdout",
     "output_type": "stream",
     "text": [
      "train_score: 0.9190514928182028\n",
      "test_score: 0.9195415324343138\n"
     ]
    }
   ],
   "source": [
    "train_score = model.score(X_train, y_train)\n",
    "test_score = model.score(X_test, y_test)\n",
    "\n",
    "print(f\"train_score: {train_score}\")\n",
    "print(f\"test_score: {test_score}\")"
   ]
  },
  {
   "cell_type": "code",
   "execution_count": 37,
   "metadata": {},
   "outputs": [
    {
     "data": {
      "text/plain": [
       "0.08045846756568617"
      ]
     },
     "execution_count": 37,
     "metadata": {},
     "output_type": "execute_result"
    }
   ],
   "source": [
    "y_pred = model.predict(X_test)\n",
    "MeanAbsError = np.mean(np.abs((y_pred - y_test)))\n",
    "MeanAbsError"
   ]
  },
  {
   "cell_type": "code",
   "execution_count": 38,
   "metadata": {},
   "outputs": [
    {
     "ename": "AttributeError",
     "evalue": "'numpy.ndarray' object has no attribute 'loc'",
     "output_type": "error",
     "traceback": [
      "\u001b[1;31m---------------------------------------------------------------------------\u001b[0m",
      "\u001b[1;31mAttributeError\u001b[0m                            Traceback (most recent call last)",
      "\u001b[1;32m<ipython-input-38-bb41b44bb5e2>\u001b[0m in \u001b[0;36m<module>\u001b[1;34m\u001b[0m\n\u001b[0;32m      1\u001b[0m \u001b[0mselector\u001b[0m \u001b[1;33m=\u001b[0m \u001b[0mSelectFromModel\u001b[0m\u001b[1;33m(\u001b[0m\u001b[0mRandomForestClassifier\u001b[0m\u001b[1;33m(\u001b[0m\u001b[1;33m)\u001b[0m\u001b[1;33m,\u001b[0m \u001b[0mmax_features\u001b[0m\u001b[1;33m=\u001b[0m\u001b[1;36m2\u001b[0m\u001b[1;33m)\u001b[0m\u001b[1;33m\u001b[0m\u001b[1;33m\u001b[0m\u001b[0m\n\u001b[0;32m      2\u001b[0m \u001b[0mselector\u001b[0m\u001b[1;33m.\u001b[0m\u001b[0mfit\u001b[0m\u001b[1;33m(\u001b[0m\u001b[0mX_train\u001b[0m\u001b[1;33m,\u001b[0m \u001b[0my_train\u001b[0m\u001b[1;33m)\u001b[0m\u001b[1;33m\u001b[0m\u001b[1;33m\u001b[0m\u001b[0m\n\u001b[1;32m----> 3\u001b[1;33m \u001b[0mX_train\u001b[0m\u001b[1;33m.\u001b[0m\u001b[0mloc\u001b[0m\u001b[1;33m[\u001b[0m\u001b[1;33m:\u001b[0m\u001b[1;33m,\u001b[0m \u001b[0mselector\u001b[0m\u001b[1;33m.\u001b[0m\u001b[0mget_support\u001b[0m\u001b[1;33m(\u001b[0m\u001b[1;33m)\u001b[0m\u001b[1;33m]\u001b[0m\u001b[1;33m.\u001b[0m\u001b[0mhead\u001b[0m\u001b[1;33m(\u001b[0m\u001b[1;33m)\u001b[0m\u001b[1;33m\u001b[0m\u001b[1;33m\u001b[0m\u001b[0m\n\u001b[0m",
      "\u001b[1;31mAttributeError\u001b[0m: 'numpy.ndarray' object has no attribute 'loc'"
     ]
    }
   ],
   "source": [
    "selector = SelectFromModel(RandomForestClassifier(), max_features=2)\n",
    "selector.fit(X_train, y_train)\n",
    "X_train.loc[:, selector.get_support()].head()"
   ]
  },
  {
   "cell_type": "code",
   "execution_count": 86,
   "metadata": {},
   "outputs": [
    {
     "ename": "AttributeError",
     "evalue": "'numpy.ndarray' object has no attribute 'columns'",
     "output_type": "error",
     "traceback": [
      "\u001b[1;31m---------------------------------------------------------------------------\u001b[0m",
      "\u001b[1;31mAttributeError\u001b[0m                            Traceback (most recent call last)",
      "\u001b[1;32m<ipython-input-86-d0f458a730a3>\u001b[0m in \u001b[0;36m<module>\u001b[1;34m\u001b[0m\n\u001b[0;32m      1\u001b[0m importance_df = pd.DataFrame(\n\u001b[1;32m----> 2\u001b[1;33m     \u001b[1;33m{\u001b[0m\u001b[1;34m\"feat\"\u001b[0m\u001b[1;33m:\u001b[0m \u001b[0mX_train\u001b[0m\u001b[1;33m.\u001b[0m\u001b[0mcolumns\u001b[0m\u001b[1;33m,\u001b[0m \u001b[1;34m\"importance\"\u001b[0m\u001b[1;33m:\u001b[0m \u001b[0mmodel\u001b[0m\u001b[1;33m.\u001b[0m\u001b[0mfeature_importances_\u001b[0m\u001b[1;33m}\u001b[0m\u001b[1;33m\u001b[0m\u001b[1;33m\u001b[0m\u001b[0m\n\u001b[0m\u001b[0;32m      3\u001b[0m )\n\u001b[0;32m      4\u001b[0m \u001b[0mimportance_df\u001b[0m\u001b[1;33m.\u001b[0m\u001b[0msort_values\u001b[0m\u001b[1;33m(\u001b[0m\u001b[1;34m\"importance\"\u001b[0m\u001b[1;33m,\u001b[0m \u001b[0mascending\u001b[0m\u001b[1;33m=\u001b[0m\u001b[1;32mFalse\u001b[0m\u001b[1;33m)\u001b[0m\u001b[1;33m\u001b[0m\u001b[1;33m\u001b[0m\u001b[0m\n",
      "\u001b[1;31mAttributeError\u001b[0m: 'numpy.ndarray' object has no attribute 'columns'"
     ]
    }
   ],
   "source": [
    "importance_df = pd.DataFrame(\n",
    "    {\"feat\": X_train.columns, \"importance\": model.feature_importances_}\n",
    ")\n",
    "importance_df.sort_values(\"importance\", ascending=False)"
   ]
  },
  {
   "cell_type": "code",
   "execution_count": 87,
   "metadata": {},
   "outputs": [
    {
     "ename": "NameError",
     "evalue": "name 'importance_dataset' is not defined",
     "output_type": "error",
     "traceback": [
      "\u001b[1;31m---------------------------------------------------------------------------\u001b[0m",
      "\u001b[1;31mNameError\u001b[0m                                 Traceback (most recent call last)",
      "\u001b[1;32m<ipython-input-87-892eec6ab9d3>\u001b[0m in \u001b[0;36m<module>\u001b[1;34m\u001b[0m\n\u001b[1;32m----> 1\u001b[1;33m \u001b[0mimportance_dataset\u001b[0m\u001b[1;33m.\u001b[0m\u001b[0msort_values\u001b[0m\u001b[1;33m(\u001b[0m\u001b[1;34m\"importance\"\u001b[0m\u001b[1;33m,\u001b[0m \u001b[0mascending\u001b[0m\u001b[1;33m=\u001b[0m\u001b[1;32mFalse\u001b[0m\u001b[1;33m)\u001b[0m\u001b[1;33m\u001b[0m\u001b[1;33m\u001b[0m\u001b[0m\n\u001b[0m",
      "\u001b[1;31mNameError\u001b[0m: name 'importance_dataset' is not defined"
     ]
    }
   ],
   "source": [
    "importance_dataset.sort_values(\"importance\", ascending=False)"
   ]
  },
  {
   "cell_type": "markdown",
   "metadata": {},
   "source": [
    "Linear Regression"
   ]
  },
  {
   "cell_type": "code",
   "execution_count": 88,
   "metadata": {},
   "outputs": [
    {
     "data": {
      "text/plain": [
       "LinearRegression()"
      ]
     },
     "execution_count": 88,
     "metadata": {},
     "output_type": "execute_result"
    }
   ],
   "source": [
    "model = LinearRegression()\n",
    "model.fit(X_train, y_train)"
   ]
  },
  {
   "cell_type": "code",
   "execution_count": 89,
   "metadata": {},
   "outputs": [
    {
     "data": {
      "text/plain": [
       "0.0809485071817972"
      ]
     },
     "execution_count": 89,
     "metadata": {},
     "output_type": "execute_result"
    }
   ],
   "source": [
    "y_train.mean()"
   ]
  },
  {
   "cell_type": "code",
   "execution_count": 90,
   "metadata": {},
   "outputs": [
    {
     "data": {
      "text/plain": [
       "0.12624571773140725"
      ]
     },
     "execution_count": 90,
     "metadata": {},
     "output_type": "execute_result"
    }
   ],
   "source": [
    "model.score(X_train, y_train)"
   ]
  },
  {
   "cell_type": "code",
   "execution_count": 91,
   "metadata": {},
   "outputs": [
    {
     "name": "stdout",
     "output_type": "stream",
     "text": [
      "-1427898352.0635328\n",
      "[ 5.52641568e+08  5.52641568e+08  5.52641568e+08  5.52641568e+08\n",
      "  5.52641568e+08 -5.94387003e+08 -5.94387003e+08 -5.94387003e+08\n",
      " -5.94387003e+08 -5.94387003e+08  1.42430521e+09  1.42430521e+09\n",
      " -1.08579738e+09 -1.08579738e+09  1.44758192e+08  1.44758192e+08\n",
      "  8.59783493e+08  8.59783493e+08  1.24964263e+08  1.24964263e+08\n",
      "  1.24964264e+08  1.24964263e+08 -2.51547493e+07 -2.51547493e+07\n",
      " -3.94273874e+07 -3.94273873e+07  8.67137436e+07  8.67137436e+07\n",
      " -2.05016032e+07 -2.05016032e+07 -2.05016032e+07 -2.05016032e+07\n",
      " -2.05016032e+07 -2.05016032e+07 -2.05016032e+07 -2.05016032e+07\n",
      " -2.05016031e+07 -2.05016031e+07 -2.05016031e+07 -2.05016031e+07\n",
      " -2.05016030e+07 -3.73750840e-04  1.49182691e-04 -7.92945284e-04\n",
      " -7.11730263e-04  1.32149085e-05  5.39299282e-05 -9.29326397e-05]\n"
     ]
    }
   ],
   "source": [
    "print(model.intercept_)\n",
    "print(model.coef_)"
   ]
  },
  {
   "cell_type": "code",
   "execution_count": 92,
   "metadata": {},
   "outputs": [],
   "source": [
    "y_pred = model.predict(X_test)"
   ]
  },
  {
   "cell_type": "code",
   "execution_count": 93,
   "metadata": {},
   "outputs": [
    {
     "data": {
      "text/plain": [
       "0.14124309613098668"
      ]
     },
     "execution_count": 93,
     "metadata": {},
     "output_type": "execute_result"
    }
   ],
   "source": [
    "mean_absolute_error(y_test, y_pred)"
   ]
  },
  {
   "cell_type": "code",
   "execution_count": 94,
   "metadata": {},
   "outputs": [],
   "source": [
    "# neu\n",
    "# principal componant analysis\n",
    "from sklearn.decomposition import PCA\n",
    "\n",
    "pca = PCA(\n",
    "    n_components=2\n",
    ")  # let 2 principal components or two extracted features. we can see easily the train and test set results in dimension 2.\n",
    "X_train = pca.fit_transform(\n",
    "    X_train\n",
    ")  # we apply object to our training set to reduce the reduce the dimensionality in learning process of LR.\n",
    "X_test = pca.transform(\n",
    "    X_test\n",
    ")  # we have also apply it on the testset. Here we need to fit, because testset is sth new.\n",
    "# explained_variance = pca.explained_variance_ratio_"
   ]
  },
  {
   "cell_type": "code",
   "execution_count": 95,
   "metadata": {},
   "outputs": [],
   "source": [
    "# Logistic Regression"
   ]
  },
  {
   "cell_type": "code",
   "execution_count": 96,
   "metadata": {},
   "outputs": [
    {
     "data": {
      "text/plain": [
       "LogisticRegression(random_state=0)"
      ]
     },
     "execution_count": 96,
     "metadata": {},
     "output_type": "execute_result"
    }
   ],
   "source": [
    "from sklearn.linear_model import LogisticRegression\n",
    "\n",
    "classifier = LogisticRegression(random_state=0)\n",
    "classifier.fit(X_train, y_train)"
   ]
  },
  {
   "cell_type": "code",
   "execution_count": 97,
   "metadata": {},
   "outputs": [],
   "source": [
    "y_pred = classifier.predict(X_test)"
   ]
  },
  {
   "cell_type": "code",
   "execution_count": 98,
   "metadata": {},
   "outputs": [
    {
     "name": "stdout",
     "output_type": "stream",
     "text": [
      "[[56801     0]\n",
      " [ 4970     0]]\n"
     ]
    }
   ],
   "source": [
    "from sklearn.metrics import confusion_matrix\n",
    "\n",
    "cm = confusion_matrix(y_test, y_pred)\n",
    "print(cm)"
   ]
  },
  {
   "cell_type": "code",
   "execution_count": null,
   "metadata": {},
   "outputs": [],
   "source": []
  }
 ],
 "metadata": {
  "kernelspec": {
   "display_name": "Python 3",
   "language": "python",
   "name": "python3"
  },
  "language_info": {
   "codemirror_mode": {
    "name": "ipython",
    "version": 3
   },
   "file_extension": ".py",
   "mimetype": "text/x-python",
   "name": "python",
   "nbconvert_exporter": "python",
   "pygments_lexer": "ipython3",
   "version": "3.8.3"
  }
 },
 "nbformat": 4,
 "nbformat_minor": 4
}
